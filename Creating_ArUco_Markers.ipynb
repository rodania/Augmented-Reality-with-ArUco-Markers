{
 "cells": [
  {
   "cell_type": "code",
   "execution_count": 1,
   "metadata": {},
   "outputs": [],
   "source": [
    "import cv2\n",
    "import numpy as np\n",
    "import cv2.aruco as aruco"
   ]
  },
  {
   "cell_type": "code",
   "execution_count": 5,
   "metadata": {},
   "outputs": [],
   "source": [
    "# Load the marker dictionary\n",
    "dictionary = aruco.Dictionary_get(aruco.DICT_6X6_250)\n",
    "\n",
    "# generate image frame\n",
    "imgMarker = np.zeros((200, 200), dtype=np.uint8)\n",
    "# assign a marker to the generated image frame\n",
    "imgMarker = aruco.drawMarker(dictionary, 1, 200, markerImage, 1);\n",
    "\n",
    "# show it\n",
    "cv2.imshow(\"img\", imgMarker)\n",
    "cv2.waitKey()\n",
    "cv2.destroyAllWindows()\n",
    "\n",
    "# save it\n",
    "cv.imwrite(\"marker1.jpg\", markerImage)"
   ]
  }
 ],
 "metadata": {
  "kernelspec": {
   "display_name": "CV",
   "language": "python",
   "name": "cv"
  },
  "language_info": {
   "codemirror_mode": {
    "name": "ipython",
    "version": 3
   },
   "file_extension": ".py",
   "mimetype": "text/x-python",
   "name": "python",
   "nbconvert_exporter": "python",
   "pygments_lexer": "ipython3",
   "version": "3.7.8"
  }
 },
 "nbformat": 4,
 "nbformat_minor": 4
}
